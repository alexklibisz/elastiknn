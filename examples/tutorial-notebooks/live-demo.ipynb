{
 "cells": [
  {
   "cell_type": "code",
   "execution_count": null,
   "metadata": {},
   "outputs": [],
   "source": [
    "%load_ext autoreload\n",
    "%autoreload 2\n",
    "%matplotlib inline\n",
    "from itertools import islice\n",
    "from tqdm import tqdm\n",
    "from pprint import pprint, pformat\n",
    "from IPython.display import Image, display, Markdown, Code, HTML\n",
    "import random\n",
    "import matplotlib.pyplot as plt\n",
    "import numpy as np\n",
    "import json\n",
    "\n",
    "from amazonutils import *"
   ]
  },
  {
   "cell_type": "markdown",
   "metadata": {},
   "source": [
    "## Connect to Elasticsearch"
   ]
  },
  {
   "cell_type": "code",
   "execution_count": null,
   "metadata": {},
   "outputs": [],
   "source": [
    "!curl localhost:9200"
   ]
  },
  {
   "cell_type": "code",
   "execution_count": null,
   "metadata": {},
   "outputs": [],
   "source": [
    "!curl localhost:9200/_cat/plugins"
   ]
  },
  {
   "cell_type": "code",
   "execution_count": null,
   "metadata": {},
   "outputs": [],
   "source": [
    "from elasticsearch import Elasticsearch\n",
    "from elasticsearch.helpers import bulk\n",
    "\n",
    "es = Elasticsearch([\"http://localhost:9200\"])\n",
    "es.cluster.health(wait_for_status='yellow', request_timeout=1)"
   ]
  },
  {
   "cell_type": "markdown",
   "metadata": {},
   "source": [
    "## Explore the Data"
   ]
  },
  {
   "cell_type": "code",
   "execution_count": null,
   "metadata": {
    "scrolled": false
   },
   "outputs": [],
   "source": [
    "fname_products = \"meta_Clothing_Shoes_and_Jewelry.json.gz\"\n",
    "fname_vectors = \"image_features_Clothing_Shoes_and_Jewelry.b\"\n",
    "\n",
    "p = next(islice(iter_products(fname_products), 20, 21))\n",
    "pprint(p)\n",
    "display(Image(p['imUrl'], width=128, height=128))\n",
    "\n",
    "_, vec = next(iter_vectors(fname_vectors))\n",
    "print(len(vec), vec[:20])"
   ]
  },
  {
   "cell_type": "markdown",
   "metadata": {},
   "source": [
    "## Index the Products"
   ]
  },
  {
   "cell_type": "code",
   "execution_count": null,
   "metadata": {},
   "outputs": [],
   "source": [
    "index = \"amazon-products-demo\"\n",
    "\n",
    "mapping = {\n",
    "  \"dynamic\": False,\n",
    "  \"properties\": {\n",
    "    \"asin\": { \"type\": \"keyword\" },\n",
    "    \"title\": { \"type\": \"text\" },\n",
    "    \"description\": { \"type\": \"text\" },\n",
    "    \"imUrl\": { \"type\": \"text\" },\n",
    "    \"price\": { \"type\": \"float\" },\n",
    "    \n",
    "    \"imVec\": {\n",
    "      \"type\": \"elastiknn_dense_float_vector\",\n",
    "      \"elastiknn\": {\n",
    "        \"dims\": 4096\n",
    "      }\n",
    "    } \n",
    "  }\n",
    "}\n",
    "\n",
    "if es.indices.exists(index):\n",
    "  es.indices.delete(index)\n",
    "es.indices.create(index)\n",
    "es.indices.put_mapping(mapping, index)\n",
    "\n",
    "es.indices.get_mapping(index)"
   ]
  },
  {
   "cell_type": "code",
   "execution_count": null,
   "metadata": {},
   "outputs": [],
   "source": [
    "def index_actions(index, n=600):\n",
    "  asin2vec = { asin: vec for asin, vec in islice(iter_vectors(fname_vectors), n) } \n",
    "  piter = iter_products(fname_products)\n",
    "  indexed = 0\n",
    "  while indexed < n:\n",
    "    p = next(piter)\n",
    "    if p['asin'] in asin2vec:\n",
    "      vec = asin2vec[p['asin']]\n",
    "      action = {\n",
    "        \"_op_type\": \"index\", \n",
    "        \"_index\": index, \n",
    "        \"_id\": p[\"asin\"], \n",
    "        \"asin\": p[\"asin\"], \n",
    "        \"title\": p.get(\"title\", None), \n",
    "        \"description\": p.get(\"description\", None),\n",
    "        \"price\": p.get(\"price\", None),\n",
    "        \"imUrl\": p.get(\"imUrl\", None),\n",
    "        \n",
    "        \"imVec\": { \"values\": vec }\n",
    "      }\n",
    "      indexed += 1\n",
    "      yield action\n",
    "\n",
    "bulk(es, tqdm(index_actions(index)), chunk_size=100, max_retries=2)\n",
    "es.indices.refresh(index)\n",
    "!curl localhost:9200/{index}/_count"
   ]
  },
  {
   "cell_type": "code",
   "execution_count": null,
   "metadata": {
    "scrolled": true
   },
   "outputs": [],
   "source": [
    "!curl localhost:9200/{index}/_search?size=1\\&pretty"
   ]
  },
  {
   "cell_type": "markdown",
   "metadata": {},
   "source": [
    "## Standard Keyword Search"
   ]
  },
  {
   "cell_type": "code",
   "execution_count": null,
   "metadata": {},
   "outputs": [],
   "source": [
    "body = {\n",
    "  \"query\": {\n",
    "    \"function_score\": {\n",
    "      \"query\": { \"match_all\": {} },\n",
    "      \"random_score\": {}\n",
    "    }\n",
    "  }\n",
    "}\n",
    "\n",
    "res = es.search(index=index, body=body, size=5)\n",
    "display_hits_horizontal(res)"
   ]
  },
  {
   "cell_type": "code",
   "execution_count": null,
   "metadata": {
    "scrolled": false
   },
   "outputs": [],
   "source": [
    "body = {\n",
    "  \"query\": {\n",
    "    \"multi_match\": {\n",
    "      \"query\": \"men's watch\",\n",
    "      \"fields\": [\"title^2\", \"description\"]\n",
    "    }\n",
    "  }\n",
    "}\n",
    "\n",
    "res = es.search(index=index, body=body, size=5)\n",
    "display_hits_horizontal(res)"
   ]
  },
  {
   "cell_type": "markdown",
   "metadata": {},
   "source": [
    "## Exact Nearest Neighbors Query\n"
   ]
  },
  {
   "cell_type": "code",
   "execution_count": null,
   "metadata": {
    "scrolled": true
   },
   "outputs": [],
   "source": [
    "product_id = \"B000FQCOOO\"\n",
    "\n",
    "fetch_res = es.get(index=index, id=product_id)\n",
    "query_vec = fetch_res['_source']['imVec']\n",
    "\n",
    "body = {\n",
    "  \"query\": {\n",
    "    \"elastiknn_nearest_neighbors\": {\n",
    "      \"vec\": query_vec,\n",
    "      \"field\": \"imVec\",\n",
    "      \"similarity\": \"angular\",\n",
    "      \"model\": \"exact\"\n",
    "    }\n",
    "  }\n",
    "}\n",
    "\n",
    "res = es.search(index=index, body=body, size=5)\n",
    "display_hits_horizontal(res)"
   ]
  },
  {
   "cell_type": "code",
   "execution_count": null,
   "metadata": {
    "scrolled": true
   },
   "outputs": [],
   "source": [
    "body = {\n",
    "  \"query\": {\n",
    "    \"elastiknn_nearest_neighbors\": {\n",
    "      \"vec\": {\n",
    "        \"index\": index,\n",
    "        \"id\": product_id,\n",
    "        \"field\": \"imVec\"\n",
    "      },\n",
    "      \"field\": \"imVec\",\n",
    "      \"model\": \"exact\",\n",
    "      \"similarity\": \"angular\"\n",
    "    }\n",
    "  }\n",
    "}\n",
    "\n",
    "res = es.search(index=index, body=body, size=5)\n",
    "display_hits_horizontal(res)"
   ]
  },
  {
   "cell_type": "markdown",
   "metadata": {},
   "source": [
    "## Index the Products (For Approximate Queries)"
   ]
  },
  {
   "cell_type": "code",
   "execution_count": null,
   "metadata": {},
   "outputs": [],
   "source": [
    "index = \"amazon-products-demo\"\n",
    "\n",
    "mapping = {\n",
    "  \"dynamic\": False,\n",
    "  \"properties\": {\n",
    "    \"asin\": { \"type\": \"keyword\" },\n",
    "    \"title\": { \"type\": \"text\" },\n",
    "    \"description\": { \"type\": \"text\" },\n",
    "    \"imUrl\": { \"type\": \"text\" },\n",
    "    \"price\": { \"type\": \"float\" },\n",
    "    \n",
    "    \"imVec\": {\n",
    "      \"type\": \"elastiknn_dense_float_vector\",\n",
    "      \"elastiknn\": {\n",
    "        \"dims\": 4096,\n",
    "        \"similarity\": \"angular\",\n",
    "        \"model\": \"lsh\",\n",
    "        \"L\": 60,\n",
    "        \"k\": 3\n",
    "      }\n",
    "    }\n",
    "    \n",
    "  }\n",
    "}\n",
    "\n",
    "if es.indices.exists(index):\n",
    "  es.indices.delete(index)\n",
    "es.indices.create(index)\n",
    "es.indices.put_mapping(mapping, index)\n",
    "\n",
    "es.indices.get_mapping(index)"
   ]
  },
  {
   "cell_type": "code",
   "execution_count": null,
   "metadata": {},
   "outputs": [],
   "source": [
    "bulk(es, tqdm(index_actions(index)), chunk_size=100, max_retries=2)\n",
    "es.indices.refresh(index)\n",
    "!curl localhost:9200/{index}/_count"
   ]
  },
  {
   "cell_type": "code",
   "execution_count": null,
   "metadata": {
    "scrolled": true
   },
   "outputs": [],
   "source": [
    "!curl localhost:9200/{index}/_search?size=1\\&pretty"
   ]
  },
  {
   "cell_type": "markdown",
   "metadata": {},
   "source": [
    "## Approximate Nearest Neighbors Query"
   ]
  },
  {
   "cell_type": "code",
   "execution_count": null,
   "metadata": {},
   "outputs": [],
   "source": [
    "body = {\n",
    "  \"query\": {\n",
    "    \"elastiknn_nearest_neighbors\": {\n",
    "      \"vec\": query_vec,\n",
    "      \"field\": \"imVec\",\n",
    "      \"similarity\": \"angular\",\n",
    "      \"model\": \"lsh\",\n",
    "      \"candidates\": 50\n",
    "    }\n",
    "  }\n",
    "}\n",
    "\n",
    "res = es.search(index=index, body=body, size=5)\n",
    "display_hits_horizontal(res)"
   ]
  },
  {
   "cell_type": "markdown",
   "metadata": {},
   "source": [
    "## Combine Standard and Nearest Neighbors Queries"
   ]
  },
  {
   "cell_type": "code",
   "execution_count": null,
   "metadata": {},
   "outputs": [],
   "source": [
    "body = {\n",
    "  \"query\": {\n",
    "    \"multi_match\": {\n",
    "      \"query\": \"leather\",\n",
    "      \"fields\": [\"title^2\", \"description\"]\n",
    "    }\n",
    "  }\n",
    "}\n",
    "\n",
    "res = es.search(index=index, body=body, size=5)\n",
    "display_hits_horizontal(res)"
   ]
  },
  {
   "cell_type": "code",
   "execution_count": null,
   "metadata": {
    "scrolled": false
   },
   "outputs": [],
   "source": [
    "body = {\n",
    "  \"query\": {\n",
    "    \"function_score\": {\n",
    "      \"query\": {\n",
    "        \"multi_match\": {\n",
    "          \"query\": \"leather\",\n",
    "          \"fields\": [\"title^2\", \"description\"]\n",
    "        }\n",
    "      },\n",
    "      \"boost_mode\": \"replace\",\n",
    "      \"functions\": [{\n",
    "        \"elastiknn_nearest_neighbors\": {\n",
    "          \"field\": \"imVec\",\n",
    "          \"similarity\": \"angular\",\n",
    "          \"model\": \"exact\",\n",
    "          \"vec\": query_vec\n",
    "        }\n",
    "      }]\n",
    "    }\n",
    "  }\n",
    "}\n",
    "\n",
    "res = es.search(index=index, body=body, size=5)\n",
    "display_hits_horizontal(res)"
   ]
  }
 ],
 "metadata": {
  "kernelspec": {
   "display_name": "Python 3",
   "language": "python",
   "name": "python3"
  },
  "language_info": {
   "codemirror_mode": {
    "name": "ipython",
    "version": 3
   },
   "file_extension": ".py",
   "mimetype": "text/x-python",
   "name": "python",
   "nbconvert_exporter": "python",
   "pygments_lexer": "ipython3",
   "version": "3.6.5"
  }
 },
 "nbformat": 4,
 "nbformat_minor": 4
}
