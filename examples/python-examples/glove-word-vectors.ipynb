{
 "cells": [
  {
   "cell_type": "code",
   "execution_count": 29,
   "metadata": {},
   "outputs": [],
   "source": [
    "import json\n",
    "import numpy as np\n",
    "from elasticsearch import Elasticsearch\n",
    "from pprint import pprint"
   ]
  },
  {
   "cell_type": "code",
   "execution_count": 4,
   "metadata": {},
   "outputs": [
    {
     "name": "stdout",
     "output_type": "stream",
     "text": [
      "164M\t/tmp/glove.6B.50d.txt\r\n",
      "823M\t/tmp/glove.6B.zip\r\n"
     ]
    }
   ],
   "source": [
    "# Download the full corpus (822mb) and unzip the 25-dimensional vectors.\n",
    "if not os.path.exists('/tmp/glove.6B.zip'):\n",
    "    !curl http://nlp.stanford.edu/data/glove.6B.zip -s -L -o /tmp/glove.6B.zip\n",
    "\n",
    "if not os.path.exists('/tmp/glove.6B.50d.txt'):\n",
    "    !unzip -p /tmp/glove.6B.zip glove.6B.50d.txt > /tmp/glove.6B.50d.txt\n",
    "        \n",
    "!du -hs /tmp/glove*"
   ]
  },
  {
   "cell_type": "code",
   "execution_count": 11,
   "metadata": {},
   "outputs": [
    {
     "data": {
      "text/plain": [
       "(400000, (400000, 50))"
      ]
     },
     "execution_count": 11,
     "metadata": {},
     "output_type": "execute_result"
    }
   ],
   "source": [
    "# Read the words into a list and the vectors into a list of lists.\n",
    "words, vecs = [], []\n",
    "\n",
    "for line in open('/tmp/glove.6B.50d.txt'):\n",
    "    tokens = line.split(' ')\n",
    "    words.append(tokens[0])\n",
    "    vecs.append([float(x) for x in tokens[1:]])\n",
    "    \n",
    "len(words), len(vecs)"
   ]
  },
  {
   "cell_type": "code",
   "execution_count": 15,
   "metadata": {},
   "outputs": [
    {
     "data": {
      "text/plain": [
       "{'name': 'elasticsearch_master',\n",
       " 'cluster_name': 'docker-cluster',\n",
       " 'cluster_uuid': 'IS6qMv95QYqzlvVPzjG7Qg',\n",
       " 'version': {'number': '7.6.2',\n",
       "  'build_flavor': 'default',\n",
       "  'build_type': 'docker',\n",
       "  'build_hash': 'ef48eb35cf30adf4db14086e8aabd07ef6fb113f',\n",
       "  'build_date': '2020-03-26T06:34:37.794943Z',\n",
       "  'build_snapshot': False,\n",
       "  'lucene_version': '8.4.0',\n",
       "  'minimum_wire_compatibility_version': '6.8.0',\n",
       "  'minimum_index_compatibility_version': '6.0.0-beta1'},\n",
       " 'tagline': 'You Know, for Search'}"
      ]
     },
     "execution_count": 15,
     "metadata": {},
     "output_type": "execute_result"
    }
   ],
   "source": [
    "# Setup the Elasticsearch client. This assumes you're already running Elasticsearch with Elastiknn installed.\n",
    "# If that's not the case, see the Installation docs for help.\n",
    "es = Elasticsearch()\n",
    "es.info()"
   ]
  },
  {
   "cell_type": "code",
   "execution_count": 18,
   "metadata": {},
   "outputs": [
    {
     "data": {
      "text/plain": [
       "{'acknowledged': True,\n",
       " 'shards_acknowledged': True,\n",
       " 'index': 'elastiknn-example-glove-word-vectors'}"
      ]
     },
     "execution_count": 18,
     "metadata": {},
     "output_type": "execute_result"
    }
   ],
   "source": [
    "# Create the index. Using 1 shard with 0 replicas for simplicity.\n",
    "index = \"elastiknn-example-glove-word-vectors\"\n",
    "index_opts = dict(settings=dict(number_of_shards=1, number_of_replicas=0))\n",
    "es.indices.create(index, body=json.dumps(index_opts))"
   ]
  },
  {
   "cell_type": "code",
   "execution_count": 31,
   "metadata": {},
   "outputs": [
    {
     "data": {
      "text/plain": [
       "{'acknowledged': True}"
      ]
     },
     "execution_count": 31,
     "metadata": {},
     "output_type": "execute_result"
    }
   ],
   "source": [
    "# Define the mapping. Using Permutation LSH model for the vector and keyword for the word.\n",
    "word_field = \"word\"\n",
    "vec_field = \"vec\"\n",
    "\n",
    "mapping = {\n",
    "    \"properties\": {\n",
    "        word_field: {\n",
    "            \"type\": \"keyword\"\n",
    "        },\n",
    "        vec_field: {\n",
    "            \"type\": \"elastiknn_dense_float_vector\",\n",
    "            \"elastiknn\": {\n",
    "                \"dims\": 50,\n",
    "                \"model\": \"permutation_lsh\",\n",
    "                \"similarity\": \"angular\",\n",
    "                \"k\": 20,\n",
    "                \"repeating\": False   \n",
    "            }\n",
    "        }\n",
    "    }\n",
    "}\n",
    "\n",
    "es.indices.put_mapping(index=index, body=json.dumps(mapping))"
   ]
  },
  {
   "cell_type": "code",
   "execution_count": null,
   "metadata": {},
   "outputs": [],
   "source": [
    "# Index the words and their corresponding vectors using the "
   ]
  }
 ],
 "metadata": {
  "kernelspec": {
   "display_name": "Python 3",
   "language": "python",
   "name": "python3"
  },
  "language_info": {
   "codemirror_mode": {
    "name": "ipython",
    "version": 3
   },
   "file_extension": ".py",
   "mimetype": "text/x-python",
   "name": "python",
   "nbconvert_exporter": "python",
   "pygments_lexer": "ipython3",
   "version": "3.6.5"
  }
 },
 "nbformat": 4,
 "nbformat_minor": 4
}
